{
 "cells": [
  {
   "cell_type": "markdown",
   "metadata": {},
   "source": [
    "# Introduction to Algorithms of Resistance: An Open Educational Resource"
   ]
  },
  {
   "cell_type": "markdown",
   "metadata": {},
   "source": [
    "*15-30 minutes*"
   ]
  },
  {
   "cell_type": "markdown",
   "metadata": {},
   "source": [
    "## Table of Contents"
   ]
  },
  {
   "cell_type": "markdown",
   "metadata": {},
   "source": [
    "- [Introduction](#introduction)\n",
    "- [About On The Books](#on-the-books)\n",
    "- [The Modules](#tutorials)\n",
    "- [A Research Workflow](#workflow)\n",
    "- [Where are we?](#where-are-we)\n",
    "    - [Access these modules online](#online)\n",
    "    - [Access these modules on your local desktop](#local)\n",
    "- [License](#license)\n",
    "- [Resources](#resources)"
   ]
  },
  {
   "cell_type": "markdown",
   "metadata": {},
   "source": [
    "## Introduction <a class=\"anchor\" id=\"introduction\">"
   ]
  },
  {
   "cell_type": "markdown",
   "metadata": {},
   "source": [
    "<div class=\"alert alert-info\">\n",
    "<strong>Welcome! If you've reached this page then you might be seeking some of the following:</strong>\n",
    "<ul>\n",
    "<li>information about how to organize, manage, and analyze a large group of historical texts;</li>\n",
    "<li>an introduction to ways historians can use programming to work with text;</li>\n",
    "<li>programming literacies that will help you better engage with and support your digital humanities collaborators.</li></ul>\n",
    "\n",
    "<p>This suite of modules contains what you've been searching for and more. Created by the <a href=\"https://onthebooks.lib.unc.edu/\" title=\"On The Books team\" target=\"blank\"><em>On The Books</em> team</a>, these modules have been designed to introduce historians and programmers alike to the kinds of critical computational concepts and skills that can be applied in historical research. As you go through each module, you'll encounter real examples based on work completed by the *On The Books* project, resources that will take you further on a range of topics, and scholarship on computational humanities and algorithms of resistance.</p>\n",
    "</div>"
   ]
  },
  {
   "cell_type": "markdown",
   "metadata": {},
   "source": [
    "**These modules are designed for learners with a range of programming experience. While some introductory understanding of Python will be helpful, you'll be able to complete the modules without having done any coding before.**\n",
    "\n",
    "In each module, we'll \n",
    "\n",
    "- let you know approximately how much time you need to complete the module;\n",
    "- provide example and module files for you to work from;\n",
    "- provide the correct code needed to complete each step;\n",
    "- offer opportunities for active learning such as completing a line of code, answering a question, or thinking through an algorithm (without code!);\n",
    "- include off-ramps to other modules and resources created by knowledgable digital humanists and programmers if you want to dive deeper into a concept;\n",
    "- offer visual aids in the form of screenshots and gifs that can help you learn a concept;\n",
    "- cite the resources used to create the module and/or include resources for further practice and research.\n",
    "\n",
    "**If you run into any issues with these modules, please let us know by [submitting a form on our website](https://onthebooks.lib.unc.edu/contact-us/).**"
   ]
  },
  {
   "cell_type": "markdown",
   "metadata": {},
   "source": [
    "## About *On The Books* <a class=\"anchor\" id=\"on-the-books\"></a>"
   ]
  },
  {
   "cell_type": "markdown",
   "metadata": {},
   "source": [
    "<a href=\"https://onthebooks.lib.unc.edu/\" title=\"On The Books team\" target=\"blank\"><em>On the Books: Jim Crow and Algorithms of Resistance</em></a> is a <a href=\"https://collectionsasdata.github.io/part2whole/\" target=\"blank\">collections as data</a> and machine learning project of the <a href=\"https://library.unc.edu/\" target=\"blank\">University of North Carolina at Chapel Hill Libraries</a> with the goal of discovering Jim Crow and racially-based legislation signed into law in North Carolina between Reconstruction and the Civil Rights Movement (1866/67-1967).\n",
    "\n",
    "To learn more, <a href=\"https://onthebooks.lib.unc.edu/about/\" target=\"blank\">check out the website</a>, watch this <a href=\"https://vimeo.com/434504369\" target=\"blank\">ASERL webinar</a>, or <a href=\"https://cdr.lib.unc.edu/concern/scholarly_works/fq978105r?locale=en\" target=\"blank\">read the white paper</a>.\n",
    "\n",
    "**The modules in this series draw on the methods used and digital resources created by the *On The Books* team. Our aim in doing this is to encourage students and researchers to engage with corpus of North Carolina laws and Jim Crow laws as a site for important reckoning and research. We also hope that it provides a road map for those hoping to do similar work with their own states' laws or with other archival materials.**"
   ]
  },
  {
   "cell_type": "markdown",
   "metadata": {},
   "source": [
    "## The Modules <a class=\"anchor\" id=\"tutorials\"></a>\n",
    "\n",
    "The modules in this open educational resource have been ordered based on text analysis workflows (from gathering data to data structuring to exploratory analysis), but feel free to choose which modules you'd like to work through. If it's helpful, you can keep this tab open or bookmarked in your browser so that you can use this list to navigate through each notebook.\n",
    "\n",
    "### 00. [Introduction - Algorithms of Resistance: An Open Educational Resource](00-Introduction-AlgorithmsOfResistance.ipynb)\n",
    "\n",
    "- An overview of the modules;\n",
    "- an explanation of the workflow the modules follow;\n",
    "- an overview of the modules' platform Jupyter Notebooks;\n",
    "- and how to access the modules using Github and Binder *or* Anaconda.\n",
    "\n",
    "### 01. [What is an algorithm?](01-AlgorithmsOfResistance-WhatIsAnAlgorithm.ipynb)\n",
    "\n",
    "- A brief explanation of what an algorithm is;\n",
    "- discussion of the term \"algorithms of resistance;\"\n",
    "- and a look at how algorithms are used for OCR and exploratory analysis.\n",
    "\n",
    "### 02. [Gathering a Corpus](02-GatheringACorpus.ipynb)\n",
    "\n",
    "- A brief explanation of what a \"corpus\" is and its importance to text and data analysis;\n",
    "- suggested methods for creating a corpus;\n",
    "- an overview of corpus data structures and file formats;\n",
    "- and two ways to gather a corpus from the Internet Archive.\n",
    "\n",
    "### 03. [Making a Corpus Computer Readable; or What is OCR?](03-WhatIsOCR.ipynb)\n",
    "\n",
    "- An explanation of OCR (optical character recognition) and why it's important for digital research;\n",
    "- a list of questions to consider when preparing a corpus for OCR;\n",
    "- and an overview of OCR tools and platforms.\n",
    "\n",
    "### 04. [How To OCR with Python & Tesseract: The Basics](04-HowToOCR.ipynb)\n",
    "\n",
    "- An overview of the OCR process;\n",
    "- how to pre-process texts for OCR;\n",
    "- how to perform OCR using Python and Tesseract.\n",
    "\n",
    "### 05. [Structuring OCR'ed Text as Data](05-StructuringOCRData.ipynb)\n",
    "\n",
    "- How to identify and address errors in OCR'ed text;\n",
    "- how to structure OCR'ed text as data.\n",
    "\n",
    "### 06. [Exploring Structured Data from OCR'ed Text](06-ExploratoryAnalysis.ipynb)\n",
    "\n",
    "- Research questions that can be asked and explored using structured data from OCR'ed text;\n",
    "- ways to explore those questions using Python and Voyant."
   ]
  },
  {
   "cell_type": "markdown",
   "metadata": {},
   "source": [
    "## A Research Workflow: From Printed Text to Computer-Readable Data<a class=\"anchor\" id=\"workflow\"></a>"
   ]
  },
  {
   "cell_type": "markdown",
   "metadata": {},
   "source": [
    "Together, these modules present a workflow that researchers can use to examine a large group of texts using a computer. This is just one method for studying texts, but it is still relatively new to many researchers. Computers make it possible for humans to analyze a group of texts at a scale that, working in analog would take years, perhaps decades or a lifetime, to complete. \n",
    "\n",
    "Some humanities scholars have called this form of research [\"distant reading\"](http://digitalhumanities.org/dhq/vol/11/2/000317/000317.html) while other humanists alongside some in the social sciences might call this work [\"text analysis\" or \"computational text analysis,\"](https://www.taylorfrancis.com/books/edit/10.4324/9781003064060/text-analysis-social-sciences-carl-roberts) [\"cultural analytics,\"](https://dhdebates.gc.cuny.edu/read/untitled-f2acf72c-a469-49d8-be35-67f9ac1e3a60/section/5d9c1b63-7b60-42dd-8cda-bde837f638f4#ch01), [\"corpus linguistics\"](https://hfroehli.ch/2014/05/11/intro-bibliography-corpus-linguistics/), or [\"computer-assisted interpretation.\"](https://direct.mit.edu/books/book/3494/HermeneuticaComputer-Assisted-Interpretation-in). \n",
    "\n",
    "Broadly speaking, these research practices follow this workflow:\n",
    "\n",
    "1. Develop one or more **research questions** that require the study of a large body of texts to generate possible answers.\n",
    "\n",
    "\n",
    "2. Gather together a group of texts that share something in common (theme, author, time period, culture, etc.) and that will serve as **evidence**.\n",
    "\n",
    "\n",
    "3. If that corpus is not already digitized, digitize it using digital cameras and/or scanners. If that corpus is not already computer-readable, use **optical character recognition (OCR)** to convert *images of text* into text that computers can process.\n",
    "\n",
    "\n",
    "4. Check the new computer-readable text for errors and perform some **structuring** tasks to make the text amenable to computer processing. Methods for this can involve text encoding using [TEI](https://tei-c.org/) or data structuring (sometimes called \"cleaning,\" or \"wrangling\").\n",
    "\n",
    "\n",
    "5. **Explore** this data-fied text to try to find possible answers to your **research questions** using any number of computational (quantitative) methods. Some of these methods include [topic modeling](https://academic.oup.com/dsh/article/30/suppl_1/i130/365257), [natural language processing](http://www.nltk.org/book/), and [sentiment analysis](https://academic.oup.com/dsh/article-abstract/31/4/762/2748263).\n",
    "\n",
    "\n",
    "6. Develop **new hypotheses** based on exploratory analyses and/or **share research.**\n",
    "\n",
    "\n",
    "**This workflow is written as an ordered (numbered) list here, but it is highly collaborative and iterative.** As such, we have *not* created a module series that will make you into an OCR and text analysis expert, but it will give you the foundation to *become* an expert and, at the very least, the *knowledge base* from which to communicate with collaborators who *do* have expertise in these computational methods."
   ]
  },
  {
   "cell_type": "markdown",
   "metadata": {},
   "source": [
    "<div class=\"alert alert-block alert-success\">\n",
    "    <h3>Further reading on computational methods for studying text:</h3>\n",
    "    <ul>\n",
    "        <li>Hedley, Alison, and Lorraine Janzen Kooistra. <a href=\"https://dhdebates.gc.cuny.edu/read/untitled-4e08b137-aec5-49a4-83c0-38258425f145/section/8e224811-5779-4444-9dbf-011f71cb1d4b#ch10\" target=\"blank\">\"Prototyping Personography for <em>The Yellow Nineties Online</em> Queering and Querying History in the Digital Age.\"</a> In <em>Bodies of Information.</em> Minneapolis, MN: University of Minnesota Press, 2018.</li>\n",
    "        <li>Johnson, Jessica Marie, David Mimno, and Lauren Tilton. <a href=\"https://dhdebates.gc.cuny.edu/projects/computational-humanities\" target=\"blank\"><em>Computational Humanities.</em></a> Minneapolis, MN: University of Minnesota Press, 2021.</li>\n",
    "        <li>Mandell, Laura. <a href=\"https://dhdebates.gc.cuny.edu/read/untitled-f2acf72c-a469-49d8-be35-67f9ac1e3a60/section/5d9c1b63-7b60-42dd-8cda-bde837f638f4#ch01\" target=\"blank\">\"Gender and Cultural Analytics: Finding or Making Stereotypes?\"</a> In <em>Debates in the Digital Humanities 2019.</em> Minneapolis, MN: University of Minnesota Press, 2019.\n",
    "        <li>Roberts, Carl W., ed. <a href=\"https://www.taylorfrancis.com/books/edit/10.4324/9781003064060/text-analysis-social-sciences-carl-roberts\" target=\"blank\"><em>Text Analysis for the Social Sciences.</em></a> New York: Routledge, 2020.</li>\n",
    "        <li>Rockwell, Geoffrey, and Stéfan Sinclair. <a href=\"https://direct.mit.edu/books/book/3494/HermeneuticaComputer-Assisted-Interpretation-in\" target=\"blank\"><em>Hermeneutica: Computer-Assisted Interpretation in the Humanities.</em></a> Boston: MIT Press, 2016.</li>\n",
    "        <li>Underwood, Ted. <a href=\"http://digitalhumanities.org/dhq/vol/11/2/000317/000317.html\" target=\"blank\">\"A Genealogy of Distant Reading.\"</a> <em>Digital Humanities Quarterly</em> 11.2 (2017).</li>\n",
    "    </ul>\n",
    "</div>"
   ]
  },
  {
   "cell_type": "markdown",
   "metadata": {},
   "source": [
    "## Where are we? <a class=\"anchor\" id=\"where-are-we\"></a>"
   ]
  },
  {
   "cell_type": "markdown",
   "metadata": {},
   "source": [
    "We are in **a <a href=\"https://jupyter.org/\" target=\"blank\">Jupyter Notebook</a>, \"an open-source web application that allows you to create and share documents that contain live code, equations, visualizations and narrative text.\"** (Jupyter.org)\n",
    "\n",
    "This Jupyter Notebook and the others that make up this collection of modules are hosted online using **<a href=\"https://mybinder.org/\" target=\"blank\">Binder</a>, a service that hosts Jupyter Notebooks online.** [Using Binder](#online) is a great way to go through these modules in your own browser if you have a relatively stable internet connection and don't want to download additional software. However, we also provide instructions for downloading and running these modules [on your own computer](#local).\n",
    "\n",
    "Each module is written in a Jupyter Notebook so that you can read the materials and run the code *in the same window*. You can also edit the code and take notes within the instructions if you like. With each module, we will introduce Jupyter concepts as you need them to complete the module."
   ]
  },
  {
   "cell_type": "markdown",
   "metadata": {},
   "source": [
    "<div class=\"alert alert-block alert-warning\">\n",
    "    <h3>Learn more about Jupyter Notebooks</h3>\n",
    "<p>If you want to learn more about Jupyter Notebooks before starting these modules, you can go through one (or more) of these tutorials:</p>\n",
    "\n",
    "<ul>\n",
    "    <li><strong>Introduction Video (5 minutes):</strong> <a href=\"https://mediaspace.illinois.edu/media/t/1_oxii37zw\" title=\"Introduction to Jupyter Notebooks from the Hathi Trust Research Center\" target=\"blank\">\"Introduction to Jupyter Notebooks\"</a> by Ruohua Han for the Hathi Trust Research Center (2020).</li>\n",
    "    <li><strong>Introduction Video + Notebook (15 minutes):</strong> <a href=\"https://docs.tdm-pilot.org/intro-to-jupyter-notebooks/\" title=\"Getting Started with Jupyter Notebooks from JSTOR Labs\">\"Getting Started with Jupyter Notebooks\"</a> by Nathan Kelber for JSTOR Labs (2020).</li>\n",
    "    <li><strong>In-Depth Tutorial (1 hour):</strong> <a href=\"https://programminghistorian.org/en/lessons/jupyter-notebooks\" title=\"Introduction to Jupyter Notebooks in The Programming Historian\" target=\"blank\">\"Introduction to Jupyter Notebooks\"</a> by Quinn Dombrowski, Tassie Gniady, and David Kloster for The Programming Historian (2020).</li>\n",
    "    </ul>\n",
    "</div>"
   ]
  },
  {
   "cell_type": "markdown",
   "metadata": {},
   "source": [
    "**If you are already looking at this module in Jupyter Notebooks,** skip ahead to the [Modules section](#tutorials) to see the list of modules in this series.\n",
    "\n",
    "**If you need further help accessing these modules** in Jupyter Notebooks, keep reading here! There are **two ways** to access these modules:"
   ]
  },
  {
   "cell_type": "markdown",
   "metadata": {},
   "source": [
    "### Access these modules online: <a class=\"anchor\" id=\"online\">"
   ]
  },
  {
   "cell_type": "markdown",
   "metadata": {},
   "source": [
    "Follow these instructions if you have **relatively stable internet access**, are working on a laptop or desktop computer, and/or want to be able to save and access these files from multiple computers. *Note that these modules may work on a tablet, but they have not been tested.*\n",
    "\n",
    "1. From the [*On The Books* website](https://onthebooks.lib.unc.edu/), click the Launch Binder button to open this first module in your browser:\n",
    "\n",
    "[![Binder](https://mybinder.org/badge_logo.svg)](https://mybinder.org/v2/gh/hlj24/oer/main?filepath=00-Introduction-AlgorithmsOfResistance.ipynb)\n",
    "\n",
    "2. OR from the [*On The Books* Github repository](https://github.com/UNC-Libraries-data/OnTheBooks), click the Launch Binder button next to any of the modules listed above to get started.\n",
    "\n",
    "3. From either steps 1 or 2, you'll be sent to Binder where you'll see a loading page that looks like this:\n",
    "\n",
    "<img src=\"images/00-intro-01.jpeg\" width=\"70%\" style=\"padding-top:20px; box-shadow: 25px 25px 20px -30px rgba(0, 0, 0);\" alt=\"Screen capture showing Binder loading a new Jupyter Notebook.\" title=\"Screen capture showing Binder loading a new Jupyter Notebook.\">\n",
    "\n",
    "<br/>\n",
    "\n",
    "4. The first time you open this page in Binder, it may take a moment to load. \n",
    "\n",
    "\n",
    "5. When the Jupyter Notebook loads, you'll be in an environment that looks like this:\n",
    "\n",
    "<img src=\"images/00-intro-02.jpg\" width=\"70%\" style=\"padding-top:20px; box-shadow: 25px 25px 20px -30px rgba(0, 0, 0);\" alt=\"Screen capture of the first Jupyter Notebook in this module series.\" title=\"Screen capture of the first Jupyter Notebook in this module series.\">\n",
    "\n",
    "<br/>\n",
    "\n",
    "6. **Save the URL to this page** by clicking the Binder button in the menu above so you can return to it later.\n",
    "\n",
    "<img src=\"images/00-intro-25.jpg\" width=\"10%\" style=\"padding-top:20px; box-shadow: 25px 25px 20px -25px rgba(0, 0, 0);\" alt=\"Screen capture of the Binder link icon in the Jupyter Notebooks menu.\" title=\"Screen capture of the Binder link icon in the Jupyter Notebooks menu.\">\n",
    "\n",
    "<br/>\n",
    "\n",
    "7. You're ready to get started. Begin from the top of the page and read down through the module. You'll learn what you need to use the notebooks as you go."
   ]
  },
  {
   "cell_type": "markdown",
   "metadata": {},
   "source": [
    "### Access these modules on your local desktop: <a class=\"anchor\" id=\"local\"></a>"
   ]
  },
  {
   "cell_type": "markdown",
   "metadata": {},
   "source": [
    "Follow these instructions if you have **limited or unstable internet access**, are working on a laptop or desktop computer, and/or want to work *mostly* offline. Note that parts of these modules will require internet access at specific points to download Python libraries and to gather data from archive.org.\n",
    "\n",
    "1. Jupyter Notebooks can be created and edited on a computer with limited or no internet access through a free software package called [Anaconda Navigator](https://www.anaconda.com/products/individual). Begin by [downloading](https://www.anaconda.com/products/individual) the version of Anaconda that matches your operating system (Windows, Mac, or Linux). Make sure you select the version labeled \"graphical installer\".\n",
    "\n",
    "\n",
    "2. When the software package finishes downloading, locate and open it and follow its instructions to complete installation. *Note that you may need administrator access to your computer to finalize installation. If you are working on a computer provided to you through your institution, check with the lab or computer administrator before attempting the install.*\n",
    "\n",
    "\n",
    "3. If needed, see [these full instructions on installing and getting started with Anaconda](https://docs.anaconda.com/anaconda/install/).\n",
    "\n",
    "\n",
    "4. Once Anaconda has been installed, launch the Anaconda Navigator.\n",
    "\n",
    "\n",
    "5. (1) Click on the \"Environments\" tab on the left.\n",
    "\n",
    "<img src=\"images/00-intro-03.jpeg\" width=\"70%\" style=\"padding-top:20px; box-shadow: 25px 25px 20px -30px rgba(0, 0, 0);\" alt=\"Screen capture of Anaconda Navigator's Environments tab.\" title=\"Screen capture of Anaconda Navigator's Environments tab.\">\n",
    "\n",
    "<br/>\n",
    "\n",
    "6. (2) Then click the \"Create\" button at the bottom of the Environments window. A popup box will appear. \n",
    "\n",
    "<img src=\"images/00-intro-04.jpeg\" width=\"40%\" style=\"padding-top:20px; box-shadow: 25px 25px 20px -30px rgba(0, 0, 0);\" alt=\"Screen capture of Anaconda Navigator's create an environment pop up window.\" title=\"Screen capture of Anaconda Navigator's create an environment pop up window.\">\n",
    "\n",
    "<br/>\n",
    "\n",
    "7. We'll create a new environment, basically a space for your *On The Books* Jupyter Notebooks modules where your Python libraries and other settings will be saved. Give this new environment a name such as \"onthebooks\". Note that spaces are not allowed in the name. Click \"Create\".\n",
    "\n",
    "\n",
    "8. You'll be returned to the Environments window. (1) Make sure that \"onthebooks\" or your environment name is selected in the middle panel. (2) Then, from the \"Installed\" dropdown menu, select \"All.\" This will show a list of all Python libraries and modules available to be installed. (If you're not sure what a Python library is at this point, that's OK--just know that it's a package of code that can be used to extend Python's core functions--like a plug-in for a website or an add-on for software like Microsoft Word.)\n",
    "\n",
    "<img src=\"images/00-intro-05.jpeg\" width=\"90%\" style=\"padding-top:20px; box-shadow: 25px 25px 20px -30px rgba(0, 0, 0);\" alt=\"Screen capture of Anaconda Navigator's Python library list.\" title=\"Screen capture of Anaconda Navigator's Python library list.\">\n",
    "\n",
    "<br/>\n",
    "\n",
    "9. In the search bar at right, (3) search for each of the following libraries. (4) Make sure that there is a green check mark next to each.\n",
    "\n",
    "    - internetarchive\n",
    "    - matplotlib\n",
    "    - nltk\n",
    "    - pandas\n",
    "    - pillow\n",
    "    - pyspellchecker\n",
    "    - pytesseract\n",
    "    - requests\n",
    "\n",
    "\n",
    "10. (1) Return to the \"Home\" tab at left and (2) click \"Launch\" under Jupyter Notebooks:\n",
    "\n",
    "<img src=\"images/00-intro-06.jpeg\" width=\"70%\" style=\"padding-top:20px; box-shadow: 25px 25px 20px -30px rgba(0, 0, 0);\" alt=\"Screen capture of Anaconda Navigator's Python library list.\" title=\"Screen capture of Anaconda Navigator's Python library list.\">\n",
    "\n",
    "<br/>\n",
    "\n",
    "11. Jupyter Notebooks will launch in your default browser. It will look something like this:\n",
    "\n",
    "<img src=\"images/00-intro-07.jpeg\" width=\"70%\" style=\"padding-top:20px; box-shadow: 25px 25px 20px -30px rgba(0, 0, 0);\" alt=\"Screen capture of Jupyter Notebooks launch in browser.\" title=\"Screen capture of Jupyter Notebooks launch in browser.\">\n",
    "\n",
    "<br/>\n",
    "\n",
    "12. A Terminal or Console window will also launch. Keep this window and Anaconda Navigator open in the background while you work in your browser window!\n",
    "\n",
    "<img src=\"images/00-intro-08.jpeg\" width=\"70%\" style=\"padding-top:20px; box-shadow: 25px 25px 20px -30px rgba(0, 0, 0);\" alt=\"Screen capture of terminal window opened by Anaconda for running Jupyter Notebooks.\" title=\"Screen capture of terminal window opened by Anaconda for running Jupyter Notebooks.\">\n",
    "\n",
    "<br/>\n",
    "\n",
    "13. In a new browser tab, navigate to the *On The Books* Github repository: [https://github.com/UNC-Libraries-data/OnTheBooks](https://github.com/UNC-Libraries-data/OnTheBooks).\n",
    "\n",
    "\n",
    "14. **If you use Github** and have Github Desktop installed or know how to use the command line (Terminal) to access repositories, use your preferred method to clone the repository to your computer.\n",
    "\n",
    "\n",
    "15. **If you do not use Github** and/or are not sure how to clone a Github repository, click the green \"Code\" button and then click \"Download Zip.\" When asked, save the .zip file to an easily accessible location, such as your Desktop.\n",
    "\n",
    "<img src=\"images/00-intro-09.jpeg\" width=\"50%\" style=\"padding-top:20px; box-shadow: 25px 25px 20px -30px rgba(0, 0, 0);\" alt=\"Screen capture of the download code button on Github.\" title=\"Screen capture of the download code button on Github.\">\n",
    "\n",
    "<br/>\n",
    "\n",
    "16. Navigate to the .zip file's location and (on a Mac) double click on it to extract the contents, or (on Windows) right-click and select \"Extract All\". When you've successfully unzipped the file, you should see a folder containing the Github repository contents.\n",
    "\n",
    "<img src=\"images/00-intro-10.jpeg\" width=\"50%\" style=\"padding-top:20px; box-shadow: 25px 25px 20px -30px rgba(0, 0, 0);\" alt=\"Screen capture of the On The Books Github repository unzipped on a local computer.\" title=\"Screen capture of the On The Books Github repository unzipped on a local computer.\">\n",
    "\n",
    "<br/>\n",
    "\n",
    "17. Back in your browser in the Jupyter Notebooks tab, locate the *On the Books* Github folder on your computer. If you saved it to the Desktop, find the Desktop folder, click to open, then click to open the Github folder. Once you've found the Github folder, click to open the folder labeled \"oer\".\n",
    "\n",
    "<img src=\"images/00-intro-11.jpg\" width=\"70%\" style=\"padding-top:20px; box-shadow: 25px 25px 20px -30px rgba(0, 0, 0);\" alt=\"Screen capture of the On The Books Github repository in Jupyter Notebooks on a local computer.\" title=\"Screen capture of the On The Books Github repository in Jupyter Notebooks on a local computer.\">\n",
    "\n",
    "<br/>\n",
    "\n",
    "18. Click \"00-Introduction-AlgorithmsOfResistance.ipynb\" to open this notebook and get started. Note that the modules are numbered beginning with \"00\" and end in the file extention \".ipynb\". If you get lost along the way, you can return here to find the module you were working on last or to move on to another module.\n",
    "\n",
    "<img src=\"images/00-intro-12.jpg\" width=\"70%\" style=\"padding-top:20px; box-shadow: 25px 25px 20px -30px rgba(0, 0, 0);\" alt=\"Screen capture of the On The Books Github oer folder in Jupyter Notebooks on a local computer.\" title=\"Screen capture of the On The Books Github oer folder in Jupyter Notebooks on a local computer.\">\n",
    "\n",
    "<br/>\n",
    "\n",
    "Now it's time to get started!"
   ]
  },
  {
   "cell_type": "markdown",
   "metadata": {},
   "source": [
    "## Resources <a class=\"anchor\" id=\"resources\"></a>\n",
    "\n",
    "We used the following resources while constructing these modules in Jupyter Notebooks:\n",
    "\n",
    "- <a href=\"https://jupyter-notebook.readthedocs.io/en/stable/notebook.html\" target=\"blank\">Jupyter Notebooks documentation</a>\n",
    "- Jupyter Notebooks keyboard shortcuts: press Esc+H to show a full list.\n",
    "- IBM's <a href=\"https://www.ibm.com/support/knowledgecenter/en/SSGNPV_2.0.0/dsx/markd-jupyter.html\" target=\"blank\">Markdown for Jupyter Notebooks Cheatsheet</a>\n",
    "- <a href=\"https://docs.github.com/en/free-pro-team@latest/github/managing-files-in-a-repository/working-with-jupyter-notebook-files-on-github\" target=\"blank\">Working with Jupyter Notebook files on Github</a>"
   ]
  },
  {
   "cell_type": "markdown",
   "metadata": {},
   "source": [
    "**>> Next module: [What Is An Algorithm?](01-AlgorithmsOfResistance-WhatIsAnAlgorithm.ipynb) >>**"
   ]
  },
  {
   "cell_type": "markdown",
   "metadata": {},
   "source": [
    "*This module is licensed under the [GNU General Public License v3.0](https://github.com/UNC-Libraries-data/OnTheBooks/blob/master/LICENSE). Individual images and data files associated with this module may be subject to a different license. If so, we indicate this in the module text.*"
   ]
  }
 ],
 "metadata": {
  "kernelspec": {
   "display_name": "Python 3",
   "language": "python",
   "name": "python3"
  },
  "language_info": {
   "codemirror_mode": {
    "name": "ipython",
    "version": 3
   },
   "file_extension": ".py",
   "mimetype": "text/x-python",
   "name": "python",
   "nbconvert_exporter": "python",
   "pygments_lexer": "ipython3",
   "version": "3.8.5"
  }
 },
 "nbformat": 4,
 "nbformat_minor": 4
}
