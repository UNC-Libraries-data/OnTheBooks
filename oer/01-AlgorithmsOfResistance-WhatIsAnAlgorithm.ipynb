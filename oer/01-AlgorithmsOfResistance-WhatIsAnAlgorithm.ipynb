{
 "cells": [
  {
   "cell_type": "markdown",
   "metadata": {},
   "source": [
    "# What is an algorithm?"
   ]
  },
  {
   "cell_type": "markdown",
   "metadata": {},
   "source": [
    "**<< Previous module: [Introduction](00-Introduction-AlgorithmsOfResistance.ipynb) <<**\n",
    "\n",
    "*15-30 minutes*"
   ]
  },
  {
   "cell_type": "markdown",
   "metadata": {},
   "source": [
    "<div class=\"alert alert-block alert-info\">\n",
    "    <strong>By the end of this module, you should be able to</strong>\n",
    "    <ul>\n",
    "        <li>define \"algorithm;\"</li>\n",
    "        <li>describe algorithms' affordances and limitations;</li>\n",
    "        <li>articulate the difference between algorithms of oppression and algorithms of resistance.</li>\n",
    "    </ul>\n",
    "</div>"
   ]
  },
  {
   "cell_type": "markdown",
   "metadata": {},
   "source": [
    "## Table of Contents\n",
    "\n",
    "- [Algorithms: What They Are and How They Are Used](#algorithms)\n",
    "- [Algorithms of Oppression](#oppression)\n",
    "- [Algorithms of Resistance](#resistance)\n",
    "- [Resources](#resources)"
   ]
  },
  {
   "cell_type": "markdown",
   "metadata": {},
   "source": [
    "The modules in the open educational resource use programming to transform printed text into computer-readable data and use algorithms to examine those data. Before we start learning the programming techniques, it's important to establish an understanding of what an algorithm is, what it does, and how algorithms impact not only research results but also everyday lives."
   ]
  },
  {
   "cell_type": "markdown",
   "metadata": {},
   "source": [
    "## Algorithms: What They Are and How They Are Used<a class=\"anchor\" id=\"algorithms\"></a>"
   ]
  },
  {
   "cell_type": "markdown",
   "metadata": {},
   "source": [
    "[According to Merriam-Webster](https://www.merriam-webster.com/dictionary/algorithm), **an algorithm is a procedure for solving a mathematical problem**, and the term is commonly used for the set of rules a machine (and especially a computer) follows to achieve a particular goal.\n",
    "\n",
    "Everything we do with a computer is mediated by algorithms. Algorithms determine which search results we receive, which content we see in our social media feeds, which route our GPS follows, which ads are directed at us, and so on. They do this by following"
   ]
  },
  {
   "cell_type": "markdown",
   "metadata": {},
   "source": [
    "<div class=\"alert alert-block alert-danger\">\n",
    "    <strong>“a set of instructions, rules, and calculations designed to solve problems.”</strong> (Benjamin 6) They are not unlike the <strong>recipe</strong> you use to bake your favorite dessert. (Broussard 7)\n",
    "</div>"
   ]
  },
  {
   "cell_type": "markdown",
   "metadata": {},
   "source": [
    "To deliver those search results we ask our favorite search engines for umpteen times per day, algorithms use *classification* (a way of organizing and describing something) and other methods that take our search terms, other data about us we knowingly or unknowingly provide through our browser, search terms and data provided by other users, and the mountains of information available online to *retrieve* a selection of what it deems to be the most relevant search results. (Bowker & Star)\n",
    " \n",
    "All of this activity, though, is hidden from most people’s view. An algorithm is a **“black box”** – not the recording devices found in airplanes, but a **“system whose workings are mysterious; we can observe its inputs and outputs, but we cannot tell how one becomes the other.”** (Pasquale 3) Think about the description above about how algorithms deliver search results. We might now have some idea about what goes *into* a search and what comes *out* of it, but we don’t know much about the *steps* algorithms use to produce search results."
   ]
  },
  {
   "cell_type": "markdown",
   "metadata": {},
   "source": [
    "### Let's test out an algorithm"
   ]
  },
  {
   "cell_type": "markdown",
   "metadata": {},
   "source": [
    "In a new browser tab, navigate to [Google](https://www.google.com/), enter the word \"America,\" and press Enter/Return.\n",
    "\n",
    "Take a look at the results Google returns. What kinds of information does it present? How is the information arranged on the page?"
   ]
  },
  {
   "cell_type": "markdown",
   "metadata": {},
   "source": [
    "<div class=\"alert alert-block alert-warning\">\n",
    "    <p><strong>How does Google select this information?</strong> First, the programmers at Google Search have created and maintain a Search Index--a massive list of web content. When you enter a search term--the word or phrase you enter into the search box--into Google, its search algorithms compare your term to the terms associated with all the web content in the Search Index and pulls out what it considers to be the most relevant information based on a bunch or rules that Google's programmers have given it.</p>\n",
    "\n",
    "<p>Those rules are used to <em>rank</em> pages based on <em>both</em> the information you give to Google and the web content available to match your information. <a href=\"https://www.google.com/search/howsearchworks/algorithms/\" target=\"blank\">According to Google Search</a>, these criteria are</p>\n",
    "<ul>\n",
    "    <li>what the algorithm assesses to be the <em>meaning</em> of your search term, or query;</li>\n",
    "    <li>your <em>context and setting</em> as represented by data your computer shares with Google when you conduct a Google search;</li>\n",
    "    <li>what the algorithm assesses to be the <em>relevance</em> of web content to you and your search term;</li>\n",
    "    <li>the content's perceived <em>quality</em> and <em>usability</em>.</li>\n",
    "    </ul>\n",
    "</div>"
   ]
  },
  {
   "cell_type": "markdown",
   "metadata": {},
   "source": [
    "Based on these criteria, search results must change over time to reflect new information or new contexts as well as changes to Google's algorithms themselves. To demonstrate this, let's compare your search results to those conducted by this module's author in late April 2021. \n",
    "\n",
    "As you look at these, as yourself: Which results are similar to yours? Which are the same? Are there differences in the ordering of information? Why do you think these results are similar/different? \n",
    "\n",
    "<img src=\"images/01-algorithms-01.jpg\" width=\"90%\" style=\"padding-top:20px; box-shadow: 25px 25px 20px -30px rgba(0, 0, 0);\" alt=\"Screen capture of Google search results for the term America. Captured April 30, 2021.\" title=\"Screen capture of Google search results for the term America. Captured April 30, 2021.\">\n",
    "\n",
    "<br/>\n",
    "\n",
    "**But how do Google's search algorithms actually work?** We've seen an example of both input, \"America,\" and output, the search results Google shared with us. We've also seen the results for two different searchers. Depending on when and where you are, and who you are, your search results might have been similar to or different from those shown above. **We still don't know exactly how the content gets chosen, though, because we can't access Google's algorithms themselves.** This is what is meant by a \"black box.\" (And if you're curious about the origins of the term \"black box\" itself and what scholars think of the term, make sure to check out Benjamin's and Pasquale's writings on the subject included in [Resources](#resources) below.)\n",
    "\n",
    "Following Broussard's analogy, it's like you have a list of ingredients to make biscones:\n",
    "\n",
    "- 1½ cups unbleached all-purpose flour\n",
    "- 1½ cups cake flour (not self-rising)\n",
    "- ¼ cup granulated sugar\n",
    "- 2 tablespoons baking powder, preferably aluminum-free\n",
    "- ¾ teaspoon fine sea salt\n",
    "- ¼ teaspoon ground cardamom\n",
    "- ½ pound (2 sticks) cold unsalted butter, cut into ½-inch cubes\n",
    "- 1 cup dried fruit, such as sour cherries or currants (optional)\n",
    "- 1½ cups buttermilk, or as needed\n",
    "- 1 egg, beaten with a pinch of fine sea salt, for egg wash\n",
    "- ¼ cup Cardamom Sugar or coarse sanding sugar for sprinkling\n",
    "\n",
    "\n",
    "...and someone just gave you a dozen biscones.\n",
    "\n",
    "But you want to make them and *don't have the instructions*. (If you're curious, [here's the algorithm...er, recipe...for biscones](https://www.splendidtable.org/story/2021/02/05/buttermilk-biscones).)\n",
    "\n",
    "**This is a somewhat flippant analogy. Not knowing or not having access to algorithms can have far more deleterious impacts.**"
   ]
  },
  {
   "cell_type": "markdown",
   "metadata": {},
   "source": [
    "## Algorithms of Oppression<a class=\"anchor\" id=\"oppression\"></a>"
   ]
  },
  {
   "cell_type": "markdown",
   "metadata": {},
   "source": [
    "According to Safiya Noble and many other scholars and critical thinkers, the ways algorithms are constructed, how they are used, and how they are kept hidden from public view have resulted in the proliferation of what Noble calls “algorithms of oppression.” "
   ]
  },
  {
   "cell_type": "markdown",
   "metadata": {},
   "source": [
    "<div class=\"alert alert-block alert-danger\">\n",
    "<p>Algorithms of oppression <strong>“[serve] up deleterious information about people, creating and normalizing structural and systemic isolation, or practicing digital redlining, all of which reinforce oppressive social and economic relations.”</strong> (Noble 10)</p>\n",
    "</div>"
   ]
  },
  {
   "cell_type": "markdown",
   "metadata": {},
   "source": [
    "Noble’s work focuses on the racialized ways that women in particular are represented in online search results: searches for “black girls” and “black beauty” yielding up racist, sexist, derogatory material while “white girls” and “beauty” yield stereotypical, no less racist or sexist, ideals of beauty as both white and overtly feminine. What kinds of negative messages do these kinds of search results send to users? How can they negatively impact individuals’ views of themselves and the world around them?\n",
    "\n",
    "Answers to these questions are just some of the consequences wrought by algorithms of oppression. Cathy O’Neil describes them as “weapons of math destruction.” Algorithms, as Zeynep Tufekci has written, have very real consequences: they are “computational agents who are not alive, but who act with agency in the world.” (Tufekci 207) "
   ]
  },
  {
   "cell_type": "markdown",
   "metadata": {},
   "source": [
    "### Examples of algorithmic oppression:"
   ]
  },
  {
   "cell_type": "markdown",
   "metadata": {},
   "source": [
    "**How can lines of code impact someone in the real world?** Noble highlights the ways that Google's search algorithms perpetuate oppression of historically minoritized groups and how negative portrayals of women of color can negatively impact their lives, but this is not the only example. The film *[Coded Bias](https://www.codedbias.com/)* documents how researcher Joy Buolamwini learned about the ways that facial recognition algorithms do not \"see\" people with dark skin, and how this technological failure is having a real impact on [individuals misidentified as criminals by London police](https://bigbrotherwatch.org.uk/wp-content/uploads/2020/06/Big-Brother-Watch-briefing-on-Facial-recognition-surveillance-June-2020.pdf).\n",
    "\n",
    "And it goes even deeper. **Here are just a few examples of how algorithms impact lives and livelihoods:** the difficulty a person of color may experience applying for a loan, which neighborhoods a realtor shows white home buyers and which they show non-white home buyers, whether someone is misidentified as a criminal suspect, or how close someone lives to a grocery store. \n",
    "\n",
    "All of these scenarios have potentially life altering consequences, and they represent the very real oppression that occurs both on and offline every day."
   ]
  },
  {
   "cell_type": "markdown",
   "metadata": {},
   "source": [
    "## Algorithms of Resistance<a class=\"anchor\" id=\"resistance\"></a>"
   ]
  },
  {
   "cell_type": "markdown",
   "metadata": {},
   "source": [
    "Awareness and representation are only the beginning of working against such oppression, however. Let’s go back to the definition of algorithms provided by Benjamin: “a set of instructions, rules, and calculations _designed_ to solve problems.” (6) Algorithms and how they are used to construct platforms, perform analyses, and make decisions are created _by design_. Someone somewhere defined a goal they needed a computer’s help to meet, outlined steps and rules that computers could use to achieve the goal, and wrote the code to carry out those steps.\n",
    "\n",
    "How can we use design theory and ethics to think about how we create and use algorithms? Sasha Costanza-Chock has considered this question from the design perspective in their 2020 book,[ Design Justice: Community-Led Practices to Build the Worlds We Need](https://design-justice.pubpub.org/). Joy Buolamwini and the[ Algorithmic Justice League](https://www.ajl.org/), of which Costanza-Chock is a member, are thinking through and carrying out resistance to algorithmic oppression through their focus on exposing and eliminating biased and harmful AI technologies. They work against what Ruha Benjamin has termed “discriminatory design.” **We draw from their examples to outline here a set of acknowledgments and guidelines for creating and working with algorithms of resistance:**\n",
    "\n",
    "*   First, even as we seek to create and use algorithms to enact common good, _we must acknowledge that we live in a society whose foundation is racist, sexist, capitalist, and colonialist and that nothing we create is neutral._\n",
    "*   This means that while we do not _intend_ to systematically exclude marginalized people, we recognize that _any algorithmic platform, analysis, or tool we create or use may still impose unintentional harm through unconscious bias, whether small or significant._\n",
    "*   In spite of these challenges, we seek to _use algorithms to resist discriminatory policies and to enact positive change_ by:\n",
    "    *   _Centering those whose knowledge and experiences directly connect to our work:_ Who are they? What kinds of cultural knowledge and experience do they have to share? How are they impacted by discriminatory policies? How could our work cause harm? How could our collaboration create a positive impact?\n",
    "    *   _Considering our own identities, assumptions, and privileges:_ Who are we? What kinds of assumptions and privileges do we bring to our work with algorithms? How might those assumptions and privileges cause harm? How can we address our assumptions, privileges, and their impacts through our work?\n",
    "    *   _Ensuring transparency in our uses and creation of algorithms:_ For the algorithms we use or create, we provide documentation to explain as clearly as possible what each algorithm does, how it does it, and how we are using it. To the extent possible, we choose existing algorithms based on their degree of transparency.\n",
    "    *   _Enabling community agency and control:_ The greatest form of agency is the power to design algorithms. Through education and community engagement, we make students, scholars, and the general public aware of our work and the ways that we are using algorithms with the aim of contributing to the growth of current and future, especially non-white, programmers. In addition to promoting awareness, we seek feedback on how our work with algorithms may be impacting others and how we can address that impact.\n",
    "    *   _Keeping humans in the loop:_ Our work is _not_ purely technical or algorithmic. We, the humans, decide which algorithms we use, how we use them, and when we work with other humans alongside or instead of computers.\n",
    "    *   _Prioritizing process over product:_ Getting the process right is key to using algorithms for resistance. We might create a product without considering any of the above guidelines, but we risk perpetrating far more harm than if we take the time to get the process—the algorithms—right.\n",
    "\n",
    "The same algorithm can be used for oppression or resistance. How we design and use algorithms, and how they impact those vulnerable to discriminatory policies, determines whether they _enact_ oppression or resistance. The question remains, as Costanza-Chock writes, “What will it take for us to transform the ways that we design technologies (sociotechnical systems) of all kinds, including digital interfaces, applications, platforms, algorithms, hardware, and infrastructure, to help us advance toward liberation?” (“Design Values”)"
   ]
  },
  {
   "cell_type": "markdown",
   "metadata": {},
   "source": [
    "### Algorithms of Resistance & _On The Books_\n",
    "\n",
    "How do we work with algorithms of resistance for _On The Books_? Here is how we are, imperfectly, applying algorithms for resistance:\n",
    "\n",
    "*   We recognize that our project team is overwhelmingly white, and we’re seeking out guidance from experts in critical race theory and US history and from scholars of color.\n",
    "*   We’re publicly posting all of our code and documentation on Github.\n",
    "*   We’re creating step-by-step modules and examples to walk users through our process.\n",
    "*   We’re engaging instructors at the K-12 and college levels with the aim of making them aware of these fully computer-readable laws and working with them to identify potential pedagogical uses.\n",
    "*   We’re prioritizing the _process_ over the product by spending a year—all of our first phase—working to get the OCR to be as error-free as possible.\n",
    "*   We’re keeping humans in the loop both in the OCR process and in the identification of Jim Crow laws.\n",
    "    *   We used a combination of automated (computer) and manual (human) processes to clean up the OCR to the best of our ability.\n",
    "\n",
    "**As you continue through these modules, we will call out how algorithms are being used and hope you will also think about this critically as you work through the various exercises.**"
   ]
  },
  {
   "cell_type": "markdown",
   "metadata": {},
   "source": [
    "## Resources <a class=\"anchor\" id=\"resources\"></a>\n",
    "\n",
    "Here are texts that we referred to when writing this module:\n",
    "\n",
    "- Algorithmic Justice League.[ https://www.ajl.org/](https://www.ajl.org/).\n",
    "\n",
    "- Benjamin, Ruha. _Race After Technology: Abolitionist Tools for the New Jim Code_. Cambridge, UK: Polity, 2019.\n",
    "\n",
    "- Bowker, Geoffrey C., and Susan Leigh Star. _Sorting things out: classification and its consequences._ Cambridge, MA: MIT Press, 1999.\n",
    "\n",
    "- Broussard, Meredith. _Artificial Unintelligence: How Computers Misunderstand the World._ Cambridge, MA: MIT Press, 2018.\n",
    "\n",
    "- Costanza-Chock, Sasha. _Design Justice_. Cambridge, MA: MIT Press, 2020.[ https://design-justice.pubpub.org/](https://design-justice.pubpub.org/)\n",
    "\n",
    "- Noble, Safiya Umoja. _Algorithms of oppression : How Search Engines Reinforce Racism._ New York: NYU Press, 2018.\n",
    "\n",
    "- O'Neil, Cathy. _Weapons of Math Destruction: How big data increases inequality and threatens democracy_. New York: Crown, 2016.\n",
    "\n",
    "- Pasquale, Frank. _The black box society: the secret algorithms that control money and information_. Cambridge, MA: Harvard University Press, 2015.\n",
    "\n",
    "- Tufekci, Zeynep. “Algorithmic harms beyond Facebook and Google: Emergent challenges of computational agency symposium essays.” Colorado Technology Law 13, 2015: 203– 18.\n",
    "\n",
    "These and more scholarship can be found in our [bibliography](https://github.com/UNC-Libraries-data/OnTheBooks_Private/blob/master/algorithms_of_resistance/bibliography.md)."
   ]
  },
  {
   "cell_type": "markdown",
   "metadata": {},
   "source": [
    "**>> Next module: [Gathering a Corpus](02-GatheringACorpus.ipynb) >>**"
   ]
  },
  {
   "cell_type": "markdown",
   "metadata": {},
   "source": [
    "*This module is licensed under the [GNU General Public License v3.0](https://github.com/UNC-Libraries-data/OnTheBooks/blob/master/LICENSE). Individual images and data files associated with this module may be subject to a different license. If so, we indicate this in the module text.*"
   ]
  }
 ],
 "metadata": {
  "kernelspec": {
   "display_name": "Python 3",
   "language": "python",
   "name": "python3"
  },
  "language_info": {
   "codemirror_mode": {
    "name": "ipython",
    "version": 3
   },
   "file_extension": ".py",
   "mimetype": "text/x-python",
   "name": "python",
   "nbconvert_exporter": "python",
   "pygments_lexer": "ipython3",
   "version": "3.8.5"
  }
 },
 "nbformat": 4,
 "nbformat_minor": 4
}
